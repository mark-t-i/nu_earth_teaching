{
  "nbformat": 4,
  "nbformat_minor": 0,
  "metadata": {
    "colab": {
      "name": "CEG1602_TernaryPlots_Simple.ipynb",
      "provenance": [],
      "collapsed_sections": [],
      "authorship_tag": "ABX9TyNSF65muQ1F7QmVhaQ+ChFq",
      "include_colab_link": true
    },
    "kernelspec": {
      "name": "python3",
      "display_name": "Python 3"
    }
  },
  "cells": [
    {
      "cell_type": "markdown",
      "metadata": {
        "id": "view-in-github",
        "colab_type": "text"
      },
      "source": [
        "<a href=\"https://colab.research.google.com/github/mark-t-i/nu_earth_teaching/blob/main/CEG1602_TernaryPlots_Simple.ipynb\" target=\"_parent\"><img src=\"https://colab.research.google.com/assets/colab-badge.svg\" alt=\"Open In Colab\"/></a>"
      ]
    },
    {
      "cell_type": "code",
      "metadata": {
        "id": "JOWwA7j6t_Ox"
      },
      "source": [
        "pip install python-ternary"
      ],
      "execution_count": null,
      "outputs": []
    },
    {
      "cell_type": "code",
      "metadata": {
        "id": "oQhq769D2w6j"
      },
      "source": [
        "import pandas as pd\n",
        "import ternary"
      ],
      "execution_count": null,
      "outputs": []
    },
    {
      "cell_type": "code",
      "metadata": {
        "id": "9orUkabp22d9"
      },
      "source": [
        "# Import local file\n",
        "from google.colab import files\n",
        "uploaded = files.upload()"
      ],
      "execution_count": null,
      "outputs": []
    },
    {
      "cell_type": "code",
      "metadata": {
        "id": "QLDeZ76p25VU"
      },
      "source": [
        "# Store Dataset in a Pandas Dataframe\n",
        "import io\n",
        "df1 = pd.read_csv(io.BytesIO(uploaded['Ternary_demo.csv']))"
      ],
      "execution_count": null,
      "outputs": []
    },
    {
      "cell_type": "code",
      "metadata": {
        "id": "2r3AA4DI4Ff5"
      },
      "source": [
        "# Print Dataframe\n",
        "print (df1)"
      ],
      "execution_count": null,
      "outputs": []
    },
    {
      "cell_type": "code",
      "metadata": {
        "id": "EMtbKHvH69T1"
      },
      "source": [
        "# Set up the figure.\n",
        "fig, tax = ternary.figure(scale=100)\n",
        "fig.set_size_inches(10, 9)\n",
        "\n",
        "# Plot points.\n",
        "tax.scatter(df1[['Lm', 'Sst', 'Sh']].values)\n",
        "\n",
        "# Axis labels. (See below for corner labels.)\n",
        "fontsize = 14\n",
        "offset = 0.08\n",
        "tax.left_axis_label(\"Shale %\", fontsize=fontsize, offset=offset)\n",
        "tax.right_axis_label(\"Sandstone %\", fontsize=fontsize, offset=offset)\n",
        "tax.bottom_axis_label(\"Limestone %\", fontsize=fontsize, offset=-offset)\n",
        "tax.set_title(\"Ternary Plot\", fontsize=20)\n",
        "\n",
        "# Decoration.\n",
        "tax.boundary(linewidth=1)\n",
        "tax.gridlines(multiple=10, color=\"gray\")\n",
        "tax.ticks(axis='lbr', linewidth=1, multiple=20)\n",
        "tax.get_axes().axis('off')\n",
        "\n",
        "tax.show()"
      ],
      "execution_count": null,
      "outputs": []
    }
  ]
}